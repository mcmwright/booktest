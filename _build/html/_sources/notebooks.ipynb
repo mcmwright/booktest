{
 "cells": [
  {
   "cell_type": "markdown",
   "metadata": {},
   "source": [
    "# Content with notebooks\n",
    "\n",
    "You can also create content with Jupyter Notebooks. This means that you can include\n",
    "code blocks and their outputs in your book. Test.\n",
    "\n",
    "## Markdown + notebooks\n",
    "\n",
    "As it is markdown, you can embed images, HTML, etc into your posts!\n",
    "\n",
    "![](https://myst-parser.readthedocs.io/en/latest/_static/logo.png)\n",
    "\n",
    "You an also $add_{math}$ and\n",
    "\n",
    "$$\n",
    "math^{blocks}\n",
    "$$\n",
    "\n",
    "or\n",
    "\n",
    "$$\n",
    "\\begin{aligned}\n",
    "\\mbox{mean} la_{tex} \\\\ \\\\\n",
    "math blocks\n",
    "\\end{aligned}\n",
    "$$\n",
    "\n",
    "But make sure you \\$Escape \\$your \\$dollar signs \\$you want to keep!\n",
    "\n",
    "## MyST markdown\n",
    "\n",
    "MyST markdown works in Jupyter Notebooks as well. For more information about MyST markdown, check\n",
    "out [the MyST guide in Jupyter Book](https://jupyterbook.org/content/myst.html),\n",
    "or see [the MyST markdown documentation](https://myst-parser.readthedocs.io/en/latest/).\n",
    "\n",
    "## Code blocks and outputs\n",
    "\n",
    "Jupyter Book will also embed your code blocks and output in your book.\n",
    "For example, here's some sample Matplotlib code:"
   ]
  },
  {
   "cell_type": "code",
   "execution_count": null,
   "metadata": {},
   "outputs": [],
   "source": [
    "from matplotlib import rcParams, cycler\n",
    "import matplotlib.pyplot as plt\n",
    "import numpy as np\n",
    "plt.ion()"
   ]
  },
  {
   "cell_type": "code",
   "execution_count": null,
   "metadata": {},
   "outputs": [],
   "source": [
    "# Fixing random state for reproducibility\n",
    "np.random.seed(19680801)\n",
    "\n",
    "N = 10\n",
    "data = [np.logspace(0, 1, 100) + np.random.randn(100) + ii for ii in range(N)]\n",
    "data = np.array(data).T\n",
    "cmap = plt.cm.coolwarm\n",
    "rcParams['axes.prop_cycle'] = cycler(color=cmap(np.linspace(0, 1, N)))\n",
    "\n",
    "\n",
    "from matplotlib.lines import Line2D\n",
    "custom_lines = [Line2D([0], [0], color=cmap(0.), lw=4),\n",
    "                Line2D([0], [0], color=cmap(.5), lw=4),\n",
    "                Line2D([0], [0], color=cmap(1.), lw=4)]\n",
    "\n",
    "fig, ax = plt.subplots(figsize=(10, 5))\n",
    "lines = ax.plot(data)\n",
    "#ax.legend(custom_lines, ['Cold', 'Medium', 'Hot']);"
   ]
  },
  {
   "cell_type": "markdown",
   "metadata": {},
   "source": [
    "There is a lot more that you can do with outputs (such as including interactive outputs)\n",
    "with your book. For more information about this, see [the Jupyter Book documentation](https://executablebooks.github.io/cli/start/overview.html)"
   ]
  },
  {
   "cell_type": "code",
   "execution_count": 1,
   "metadata": {},
   "outputs": [],
   "source": [
    "import IPython.display"
   ]
  },
  {
   "cell_type": "code",
   "execution_count": 2,
   "metadata": {},
   "outputs": [
    {
     "data": {
      "text/html": [
       "\n",
       "                <audio  controls=\"controls\" >\n",
       "                    <source src=\"data:audio/mpeg;base64,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\" type=\"audio/mpeg\" />\n",
       "                    Your browser does not support the audio element.\n",
       "                </audio>\n",
       "              "
      ],
      "text/plain": [
       "<IPython.lib.display.Audio object>"
      ]
     },
     "execution_count": 2,
     "metadata": {},
     "output_type": "execute_result"
    }
   ],
   "source": [
    "IPython.display.Audio(filename=\"media/bass-clarinet_A2_05_forte_normal.mp3\")"
   ]
  },
  {
   "cell_type": "code",
   "execution_count": 6,
   "metadata": {
    "scrolled": true
   },
   "outputs": [
    {
     "data": {
      "text/html": [
       "\n",
       "    <video alt=\"test\" controls>\n",
       "        <source src=\"media/velocity cancellation.mp4\" type=\"video/mp4\">\n",
       "    </video>\n"
      ],
      "text/plain": [
       "<IPython.core.display.HTML object>"
      ]
     },
     "execution_count": 6,
     "metadata": {},
     "output_type": "execute_result"
    }
   ],
   "source": [
    "IPython.display.HTML(\"\"\"\n",
    "    <video alt=\"test\" controls>\n",
    "        <source src=\"media/velocity cancellation.mp4\" type=\"video/mp4\">\n",
    "    </video>\n",
    "\"\"\")"
   ]
  },
  {
   "cell_type": "code",
   "execution_count": null,
   "metadata": {},
   "outputs": [],
   "source": []
  }
 ],
 "metadata": {
  "kernelspec": {
   "display_name": "Python 3",
   "language": "python",
   "name": "python3"
  },
  "language_info": {
   "codemirror_mode": {
    "name": "ipython",
    "version": 3
   },
   "file_extension": ".py",
   "mimetype": "text/x-python",
   "name": "python",
   "nbconvert_exporter": "python",
   "pygments_lexer": "ipython3",
   "version": "3.7.7"
  },
  "widgets": {
   "application/vnd.jupyter.widget-state+json": {
    "state": {},
    "version_major": 2,
    "version_minor": 0
   }
  }
 },
 "nbformat": 4,
 "nbformat_minor": 4
}
